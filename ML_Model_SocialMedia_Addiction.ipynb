# -----------------------------------------
# 📦 Step 1: Import Libraries
# -----------------------------------------
import pandas as pd
import numpy as np
import seaborn as sns
import matplotlib.pyplot as plt

from sklearn.model_selection import train_test_split
from sklearn.preprocessing import LabelEncoder
from sklearn.ensemble import RandomForestClassifier
from sklearn.metrics import accuracy_score, classification_report, confusion_matrix

# -----------------------------------------
# 📂 Step 2: Load Dataset (from GitHub)
# -----------------------------------------
url = "https://raw.githubusercontent.com/giwrgoskoutsoudis/AI-Project/main/Students%20Social%20Media%20Addiction.csv"
df = pd.read_csv(url)

# -----------------------------------------
# 👀 Step 3: EDA - View basic info
# -----------------------------------------
print("Shape:", df.shape)
print(df.head())
print(df.info())
print(df.isnull().sum())

# -----------------------------------------
# 🧼 Step 4: Clean + Create target column
# -----------------------------------------
def categorize(score):
    if score <= 3:
        return "Low"
    elif score <= 6:
        return "Medium"
    else:
        return "High"

df["Addicted_Level"] = df["Addicted_Score"].apply(categorize)
df.drop("Student_ID", axis=1, inplace=True)

# -----------------------------------------
# 🔠 Step 5: Encode Categorical Columns
# -----------------------------------------
le = LabelEncoder()
for col in df.columns:
    if df[col].dtype == "object":
        df[col] = le.fit_transform(df[col].astype(str))

# -----------------------------------------
# 🎯 Step 6: Define X (features) and y (target)
# -----------------------------------------
X = df.drop(["Addicted_Score", "Addicted_Level"], axis=1)
y = df["Addicted_Level"]

# -----------------------------------------
# 🧪 Step 7: Train/Test Split
# -----------------------------------------
X_train, X_test, y_train, y_test = train_test_split(X, y, test_size=0.2, random_state=42)

# -----------------------------------------
# 🤖 Step 8: Train Random Forest Model
# -----------------------------------------
model = RandomForestClassifier(random_state=42)
model.fit(X_train, y_train)

# -----------------------------------------
# 📊 Step 9: Evaluate Model
# -----------------------------------------
y_pred = model.predict(X_test)
print("✅ Accuracy:", accuracy_score(y_test, y_pred))
print("\n📋 Classification Report:\n", classification_report(y_test, y_pred))
print("\n📉 Confusion Matrix:\n", confusion_matrix(y_test, y_pred))

# -----------------------------------------
# 🤖 Step 10: AI Agent – Predict & Explain (Improved with user guidance)
# -----------------------------------------

print("📋 Σε παρακαλώ απάντησε στις παρακάτω ερωτήσεις για να γίνει πρόβλεψη:")

# Είσοδοι χρήστη με επεξηγήσεις
age = int(input("🔢 Πόσο χρονών είσαι; (π.χ. 20, 25): "))
gender = input("⚧️ Φύλο (επίλεξε: Male ή Female): ")
academic_level = input("🎓 Ακαδημαϊκό επίπεδο (επίλεξε: Undergraduate ή Graduate): ")
country = input("🌍 Χώρα (γράψε π.χ. Cyprus, USA, Greece): ")
daily_usage = float(input("📱 Ώρες χρήσης social media ανά ημέρα (π.χ. 2.5, 6): "))
platform = input("📌 Πλατφόρμα που χρησιμοποιείς πιο πολύ (π.χ. Instagram, Facebook, TikTok): ")
academic_affect = input("📚 Επηρεάζει τις σπουδές σου; (επίλεξε: Yes ή No): ")
sleep_hours = float(input("😴 Ώρες ύπνου ανά νύχτα (π.χ. 7.5, 6): "))
mental_score = int(input("🧠 Ψυχική υγεία (από 1 έως 10): "))
relationship = input("💞 Κατάσταση σχέσης (επίλεξε: Single ή In a relationship): ")
conflicts = int(input("💬 Πόσες διαφωνίες είχες λόγω social media την εβδομάδα; (π.χ. 0, 2, 5): "))

# Δημιουργία λεξικού με τις τιμές του χρήστη
user_input = {
    "Age": age,
    "Gender": gender,
    "Academic_Level": academic_level,
    "Country": country,
    "Avg_Daily_Usage_Hours": daily_usage,
    "Most_Used_Platform": platform,
    "Affects_Academic_Performance": academic_affect,
    "Sleep_Hours_Per_Night": sleep_hours,
    "Mental_Health_Score": mental_score,
    "Relationship_Status": relationship,
    "Conflicts_Over_Social_Media": conflicts
}

# Μετατροπή σε DataFrame
user_df = pd.DataFrame([user_input])

# Κωδικοποίηση
for col in user_df.columns:
    if user_df[col].dtype == "object":
        user_df[col] = le.fit_transform(user_df[col].astype(str))

# Πρόβλεψη
prediction = model.predict(user_df)[0]

# Μετατροπή της πρόβλεψης σε κείμενο
level_map = {0: "Low", 1: "Medium", 2: "High"}
predicted_level = level_map[prediction] if prediction in level_map else prediction

# Εμφάνιση αποτελέσματος
print(f"\n🔍 Βάσει των στοιχείων σου, το μοντέλο προβλέπει ότι έχεις **{predicted_level}** επίπεδο εθισμού στα social media.")

# Συμβουλές
if daily_usage > 5:
    print("💬 Η καθημερινή χρήση άνω των 5 ωρών επηρεάζει σημαντικά το επίπεδο εθισμού.")
if sleep_hours < 6:
    print("💤 Προσπάθησε να κοιμάσαι περισσότερο – ο λίγος ύπνος σχετίζεται με υψηλότερο σκορ εθισμού.")
